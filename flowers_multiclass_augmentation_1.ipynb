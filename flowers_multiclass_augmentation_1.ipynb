{
  "nbformat": 4,
  "nbformat_minor": 0,
  "metadata": {
    "colab": {
      "name": "flowers_multiclass_augmentation_1.ipynb",
      "provenance": [],
      "collapsed_sections": [],
      "authorship_tag": "ABX9TyOq2yaFgq60xhXY2XN8Ayh1",
      "include_colab_link": true
    },
    "kernelspec": {
      "name": "python3",
      "display_name": "Python 3"
    },
    "language_info": {
      "name": "python"
    }
  },
  "cells": [
    {
      "cell_type": "markdown",
      "metadata": {
        "id": "view-in-github",
        "colab_type": "text"
      },
      "source": [
        "<a href=\"https://colab.research.google.com/github/anushavasup/imageclassification_flowers/blob/main/flowers_multiclass_augmentation_1.ipynb\" target=\"_parent\"><img src=\"https://colab.research.google.com/assets/colab-badge.svg\" alt=\"Open In Colab\"/></a>"
      ]
    },
    {
      "cell_type": "code",
      "metadata": {
        "colab": {
          "base_uri": "https://localhost:8080/"
        },
        "id": "4ICbtL0fvy4g",
        "outputId": "0b1f1e29-8aed-4a2c-c6f5-366ef1f622e4"
      },
      "source": [
        "from google.colab import drive\n",
        "drive.mount('/content/drive/')"
      ],
      "execution_count": 1,
      "outputs": [
        {
          "output_type": "stream",
          "text": [
            "Mounted at /content/drive/\n"
          ],
          "name": "stdout"
        }
      ]
    },
    {
      "cell_type": "code",
      "metadata": {
        "colab": {
          "base_uri": "https://localhost:8080/"
        },
        "id": "guhIHyXsv_IH",
        "outputId": "382ea19f-0a8b-4816-dfd7-684f26c7ce08"
      },
      "source": [
        "from zipfile import ZipFile\n",
        "file_name = '/content/drive/MyDrive/flowers.zip'\n",
        "with ZipFile(file_name, 'r') as zip:\n",
        "  zip.extractall()\n",
        "  print('Done')"
      ],
      "execution_count": 2,
      "outputs": [
        {
          "output_type": "stream",
          "text": [
            "Done\n"
          ],
          "name": "stdout"
        }
      ]
    },
    {
      "cell_type": "code",
      "metadata": {
        "id": "qozqyE8kwc8i"
      },
      "source": [
        "import numpy as np \n",
        "import pandas as pd \n",
        "import os\n",
        "import matplotlib.pyplot as plt\n",
        "import cv2\n",
        "from tensorflow.keras.utils import to_categorical\n",
        "from keras.layers import Dense,Conv2D,Flatten,MaxPool2D,Dropout\n",
        "from keras.models import Sequential\n",
        "from sklearn.model_selection import train_test_split\n",
        "\n"
      ],
      "execution_count": 3,
      "outputs": []
    },
    {
      "cell_type": "code",
      "metadata": {
        "id": "enfobWwvSuMn"
      },
      "source": [
        "import tensorflow as tf\n",
        "from tensorflow.keras import layers\n",
        "data_augmentation = tf.keras.Sequential(\n",
        "  [\n",
        "    layers.experimental.preprocessing.RandomFlip(\"horizontal\", \n",
        "                                                 input_shape=(32, \n",
        "                                                              32,\n",
        "                                                              3)),\n",
        "    layers.experimental.preprocessing.RandomRotation(0.1),\n",
        "    layers.experimental.preprocessing.RandomZoom(0.1),\n",
        "  ]\n",
        ")"
      ],
      "execution_count": 4,
      "outputs": []
    },
    {
      "cell_type": "code",
      "metadata": {
        "id": "W7jMSFpQw7av"
      },
      "source": [
        "import glob \n",
        "import cv2\n",
        "from skimage.transform import resize\n",
        "folders=['daisy','dandelion','rose','sunflower','tulip']\n",
        "X=[]#feature dataset\n",
        "y=[]#target data set\n",
        "#loop through everyfolder\n",
        "for folder in folders:\n",
        "  path='/content/flowers/'+folder+'/*.jpg'\n",
        "  files=glob.glob(path)\n",
        "  for myfile in files:\n",
        "    image=cv2.imread(myfile)\n",
        "    image=cv2.cvtColor(image,cv2.COLOR_BGR2RGB)\n",
        "    image=resize(image,(32,32,3))\n",
        "    \n",
        "    X.append(image)\n",
        "    y.append(folder)\n",
        "    #print(image.shape)\n",
        "    image = tf.expand_dims(image, 0)\n",
        "    augmented_image=data_augmentation(image)\n",
        "    augmented_image=tf.reshape(augmented_image,(32,32,3))\n",
        "    #print(augmented_image)\n",
        "    X.append(augmented_image)\n",
        "    y.append(folder)"
      ],
      "execution_count": 5,
      "outputs": []
    },
    {
      "cell_type": "code",
      "metadata": {
        "id": "YKf2a5KxyP1g"
      },
      "source": [
        "from sklearn.model_selection import train_test_split\n",
        "X_train,X_test,y_train,y_test=train_test_split(X,y,test_size=0.2,random_state=42)"
      ],
      "execution_count": 6,
      "outputs": []
    },
    {
      "cell_type": "code",
      "metadata": {
        "colab": {
          "base_uri": "https://localhost:8080/"
        },
        "id": "l_bfrE4qz_fJ",
        "outputId": "a798dad7-4ae1-460a-ce2e-3cb6534ecee1"
      },
      "source": [
        "from sklearn.preprocessing import LabelEncoder\n",
        "y_train=LabelEncoder().fit_transform(y_train)\n",
        "y_test=LabelEncoder().fit_transform(y_test)\n",
        "print(y_train)\n"
      ],
      "execution_count": 7,
      "outputs": [
        {
          "output_type": "stream",
          "text": [
            "[4 3 3 ... 3 0 4]\n"
          ],
          "name": "stdout"
        }
      ]
    },
    {
      "cell_type": "code",
      "metadata": {
        "colab": {
          "base_uri": "https://localhost:8080/"
        },
        "id": "wMmuy7As0Dw3",
        "outputId": "5cc51b7d-97ae-4e81-a9ad-20c740b26f45"
      },
      "source": [
        "from tensorflow.keras.utils import to_categorical\n",
        "y_train_one_hot=to_categorical(y_train)\n",
        "y_test_one_hot=to_categorical(y_test)\n",
        "normalization_layer = layers.experimental.preprocessing.Rescaling(1./255)\n",
        "#X_train1=tf.convert_to_tensor(X_train)\n",
        "\n",
        "X_train1=np.array(X_train)\n",
        "X_test1=np.array(X_test)\n",
        "print(type(X_train1))\n",
        "print(np.max(X_train1[3]))\n",
        "X_train1.shape"
      ],
      "execution_count": 8,
      "outputs": [
        {
          "output_type": "stream",
          "text": [
            "<class 'numpy.ndarray'>\n",
            "0.9673624038696289\n"
          ],
          "name": "stdout"
        },
        {
          "output_type": "execute_result",
          "data": {
            "text/plain": [
              "(6907, 32, 32, 3)"
            ]
          },
          "metadata": {
            "tags": []
          },
          "execution_count": 8
        }
      ]
    },
    {
      "cell_type": "code",
      "metadata": {
        "id": "9LwPZajRyrpV"
      },
      "source": [
        "# Creating a Sequential model\n",
        "model_flower= Sequential()\n",
        "#model.add(data_augmentation)\n",
        "model_flower.add(Conv2D(kernel_size=(3,3), filters=32, activation='relu', input_shape=(32,32,3)))\n",
        "model_flower.add(Dropout(0.2))\n",
        "\n",
        "model_flower.add(Conv2D(filters=30,kernel_size = (3,3),activation='relu'))\n",
        "model_flower.add(MaxPool2D(2,2))\n",
        "model_flower.add(Dropout(0.2))\n",
        "\n",
        "model_flower.add(Conv2D(filters=30,kernel_size = (3,3),activation='relu'))\n",
        "model_flower.add(MaxPool2D(2,2))\n",
        "model_flower.add(Dropout(0.2))\n",
        "\n",
        "model_flower.add(Conv2D(filters=30,kernel_size = (3,3),activation='relu'))\n",
        "model_flower.add(Dropout(0.2))\n",
        "\n",
        "model_flower.add(Flatten())\n",
        "\n",
        "model_flower.add(Dense(25,activation='relu'))\n",
        "model_flower.add(Dropout(0.2))\n",
        "model_flower.add(Dense(15,activation='relu'))\n",
        "#model_flower.add(Dense(32,activation='relu'))\n",
        "\n",
        "model_flower.add(Dense(5,activation = 'softmax'))\n",
        "\n",
        "    \n",
        "model_flower.compile(\n",
        "              loss='categorical_crossentropy', \n",
        "              metrics=['acc'],\n",
        "              optimizer='adam'\n",
        "             )\n"
      ],
      "execution_count": 16,
      "outputs": []
    },
    {
      "cell_type": "code",
      "metadata": {
        "colab": {
          "base_uri": "https://localhost:8080/"
        },
        "id": "K7G2GKigzFC9",
        "outputId": "c5831488-536c-4207-826d-be43f620391c"
      },
      "source": [
        "# Model Summary\n",
        "model_flower.summary()"
      ],
      "execution_count": 30,
      "outputs": [
        {
          "output_type": "stream",
          "text": [
            "Model: \"sequential_3\"\n",
            "_________________________________________________________________\n",
            "Layer (type)                 Output Shape              Param #   \n",
            "=================================================================\n",
            "conv2d_12 (Conv2D)           (None, 30, 30, 32)        896       \n",
            "_________________________________________________________________\n",
            "dropout_13 (Dropout)         (None, 30, 30, 32)        0         \n",
            "_________________________________________________________________\n",
            "conv2d_13 (Conv2D)           (None, 28, 28, 30)        8670      \n",
            "_________________________________________________________________\n",
            "max_pooling2d_6 (MaxPooling2 (None, 14, 14, 30)        0         \n",
            "_________________________________________________________________\n",
            "dropout_14 (Dropout)         (None, 14, 14, 30)        0         \n",
            "_________________________________________________________________\n",
            "conv2d_14 (Conv2D)           (None, 12, 12, 30)        8130      \n",
            "_________________________________________________________________\n",
            "max_pooling2d_7 (MaxPooling2 (None, 6, 6, 30)          0         \n",
            "_________________________________________________________________\n",
            "dropout_15 (Dropout)         (None, 6, 6, 30)          0         \n",
            "_________________________________________________________________\n",
            "conv2d_15 (Conv2D)           (None, 4, 4, 30)          8130      \n",
            "_________________________________________________________________\n",
            "dropout_16 (Dropout)         (None, 4, 4, 30)          0         \n",
            "_________________________________________________________________\n",
            "flatten_3 (Flatten)          (None, 480)               0         \n",
            "_________________________________________________________________\n",
            "dense_10 (Dense)             (None, 25)                12025     \n",
            "_________________________________________________________________\n",
            "dropout_17 (Dropout)         (None, 25)                0         \n",
            "_________________________________________________________________\n",
            "dense_11 (Dense)             (None, 15)                390       \n",
            "_________________________________________________________________\n",
            "dense_12 (Dense)             (None, 5)                 80        \n",
            "=================================================================\n",
            "Total params: 38,321\n",
            "Trainable params: 38,321\n",
            "Non-trainable params: 0\n",
            "_________________________________________________________________\n"
          ],
          "name": "stdout"
        }
      ]
    },
    {
      "cell_type": "code",
      "metadata": {
        "colab": {
          "base_uri": "https://localhost:8080/"
        },
        "id": "lBCWvZPXzd9e",
        "outputId": "f1d64d2d-5ed6-4cb7-ef97-3a27308685ff"
      },
      "source": [
        "# Training the model\n",
        "history = model_flower.fit(X_train1,y_train_one_hot,epochs=40,batch_size=32,validation_split=0.5)"
      ],
      "execution_count": 22,
      "outputs": [
        {
          "output_type": "stream",
          "text": [
            "Epoch 1/40\n",
            "108/108 [==============================] - 12s 110ms/step - loss: 0.7443 - acc: 0.7223 - val_loss: 0.8043 - val_acc: 0.6922\n",
            "Epoch 2/40\n",
            "108/108 [==============================] - 12s 109ms/step - loss: 0.7404 - acc: 0.7113 - val_loss: 0.8244 - val_acc: 0.6815\n",
            "Epoch 3/40\n",
            "108/108 [==============================] - 12s 109ms/step - loss: 0.7326 - acc: 0.7237 - val_loss: 0.8865 - val_acc: 0.6665\n",
            "Epoch 4/40\n",
            "108/108 [==============================] - 12s 109ms/step - loss: 0.6776 - acc: 0.7382 - val_loss: 0.8085 - val_acc: 0.6946\n",
            "Epoch 5/40\n",
            "108/108 [==============================] - 12s 108ms/step - loss: 0.6866 - acc: 0.7396 - val_loss: 0.8070 - val_acc: 0.6827\n",
            "Epoch 6/40\n",
            "108/108 [==============================] - 12s 108ms/step - loss: 0.6703 - acc: 0.7454 - val_loss: 0.7977 - val_acc: 0.6943\n",
            "Epoch 7/40\n",
            "108/108 [==============================] - 12s 108ms/step - loss: 0.6711 - acc: 0.7420 - val_loss: 0.8309 - val_acc: 0.6925\n",
            "Epoch 8/40\n",
            "108/108 [==============================] - 12s 108ms/step - loss: 0.6535 - acc: 0.7469 - val_loss: 0.8482 - val_acc: 0.6749\n",
            "Epoch 9/40\n",
            "108/108 [==============================] - 12s 109ms/step - loss: 0.6442 - acc: 0.7486 - val_loss: 0.7918 - val_acc: 0.6940\n",
            "Epoch 10/40\n",
            "108/108 [==============================] - 12s 109ms/step - loss: 0.6215 - acc: 0.7593 - val_loss: 0.8421 - val_acc: 0.6838\n",
            "Epoch 11/40\n",
            "108/108 [==============================] - 12s 110ms/step - loss: 0.6251 - acc: 0.7579 - val_loss: 0.7859 - val_acc: 0.7056\n",
            "Epoch 12/40\n",
            "108/108 [==============================] - 12s 109ms/step - loss: 0.6101 - acc: 0.7648 - val_loss: 0.8286 - val_acc: 0.6925\n",
            "Epoch 13/40\n",
            "108/108 [==============================] - 12s 109ms/step - loss: 0.6047 - acc: 0.7634 - val_loss: 0.7830 - val_acc: 0.7061\n",
            "Epoch 14/40\n",
            "108/108 [==============================] - 12s 109ms/step - loss: 0.6203 - acc: 0.7611 - val_loss: 0.8500 - val_acc: 0.6908\n",
            "Epoch 15/40\n",
            "108/108 [==============================] - 12s 108ms/step - loss: 0.5946 - acc: 0.7721 - val_loss: 0.7842 - val_acc: 0.7125\n",
            "Epoch 16/40\n",
            "108/108 [==============================] - 12s 109ms/step - loss: 0.5789 - acc: 0.7744 - val_loss: 0.7947 - val_acc: 0.7044\n",
            "Epoch 17/40\n",
            "108/108 [==============================] - 12s 109ms/step - loss: 0.5460 - acc: 0.7842 - val_loss: 0.8362 - val_acc: 0.6980\n",
            "Epoch 18/40\n",
            "108/108 [==============================] - 12s 109ms/step - loss: 0.5695 - acc: 0.7825 - val_loss: 0.8406 - val_acc: 0.6946\n",
            "Epoch 19/40\n",
            "108/108 [==============================] - 12s 109ms/step - loss: 0.5761 - acc: 0.7779 - val_loss: 0.8027 - val_acc: 0.7099\n",
            "Epoch 20/40\n",
            "108/108 [==============================] - 12s 110ms/step - loss: 0.5703 - acc: 0.7753 - val_loss: 0.7963 - val_acc: 0.7174\n",
            "Epoch 21/40\n",
            "108/108 [==============================] - 12s 110ms/step - loss: 0.5525 - acc: 0.7929 - val_loss: 0.8145 - val_acc: 0.7119\n",
            "Epoch 22/40\n",
            "108/108 [==============================] - 12s 109ms/step - loss: 0.5338 - acc: 0.7958 - val_loss: 0.8322 - val_acc: 0.6925\n",
            "Epoch 23/40\n",
            "108/108 [==============================] - 12s 109ms/step - loss: 0.5300 - acc: 0.7947 - val_loss: 0.8169 - val_acc: 0.6995\n",
            "Epoch 24/40\n",
            "108/108 [==============================] - 12s 109ms/step - loss: 0.5216 - acc: 0.7955 - val_loss: 0.8159 - val_acc: 0.6998\n",
            "Epoch 25/40\n",
            "108/108 [==============================] - 12s 110ms/step - loss: 0.5016 - acc: 0.8126 - val_loss: 0.8080 - val_acc: 0.7041\n",
            "Epoch 26/40\n",
            "108/108 [==============================] - 12s 111ms/step - loss: 0.5055 - acc: 0.8109 - val_loss: 0.8140 - val_acc: 0.7154\n",
            "Epoch 27/40\n",
            "108/108 [==============================] - 12s 111ms/step - loss: 0.5078 - acc: 0.8054 - val_loss: 0.8547 - val_acc: 0.7050\n",
            "Epoch 28/40\n",
            "108/108 [==============================] - 12s 110ms/step - loss: 0.5051 - acc: 0.8060 - val_loss: 0.7971 - val_acc: 0.7154\n",
            "Epoch 29/40\n",
            "108/108 [==============================] - 12s 110ms/step - loss: 0.4856 - acc: 0.8132 - val_loss: 0.8862 - val_acc: 0.6862\n",
            "Epoch 30/40\n",
            "108/108 [==============================] - 12s 110ms/step - loss: 0.5101 - acc: 0.8013 - val_loss: 0.8453 - val_acc: 0.7064\n",
            "Epoch 31/40\n",
            "108/108 [==============================] - 12s 109ms/step - loss: 0.4843 - acc: 0.8190 - val_loss: 0.8575 - val_acc: 0.7102\n",
            "Epoch 32/40\n",
            "108/108 [==============================] - 12s 110ms/step - loss: 0.4784 - acc: 0.8187 - val_loss: 0.8121 - val_acc: 0.7221\n",
            "Epoch 33/40\n",
            "108/108 [==============================] - 12s 109ms/step - loss: 0.4572 - acc: 0.8268 - val_loss: 0.8547 - val_acc: 0.7056\n",
            "Epoch 34/40\n",
            "108/108 [==============================] - 12s 111ms/step - loss: 0.4765 - acc: 0.8187 - val_loss: 0.8308 - val_acc: 0.7163\n",
            "Epoch 35/40\n",
            "108/108 [==============================] - 12s 110ms/step - loss: 0.4946 - acc: 0.8120 - val_loss: 0.8350 - val_acc: 0.7105\n",
            "Epoch 36/40\n",
            "108/108 [==============================] - 12s 109ms/step - loss: 0.4442 - acc: 0.8271 - val_loss: 0.8355 - val_acc: 0.7186\n",
            "Epoch 37/40\n",
            "108/108 [==============================] - 12s 109ms/step - loss: 0.4825 - acc: 0.8065 - val_loss: 0.8590 - val_acc: 0.7035\n",
            "Epoch 38/40\n",
            "108/108 [==============================] - 12s 109ms/step - loss: 0.4636 - acc: 0.8271 - val_loss: 0.8684 - val_acc: 0.7169\n",
            "Epoch 39/40\n",
            "108/108 [==============================] - 12s 109ms/step - loss: 0.4400 - acc: 0.8297 - val_loss: 0.8289 - val_acc: 0.7203\n",
            "Epoch 40/40\n",
            "108/108 [==============================] - 12s 110ms/step - loss: 0.4431 - acc: 0.8315 - val_loss: 0.7950 - val_acc: 0.7252\n"
          ],
          "name": "stdout"
        }
      ]
    },
    {
      "cell_type": "code",
      "metadata": {
        "colab": {
          "base_uri": "https://localhost:8080/",
          "height": 295
        },
        "id": "hwDUvgEu3-yv",
        "outputId": "00652de5-d6d1-405a-ac82-2a65635297a5"
      },
      "source": [
        "# summarize history for accuracy\n",
        "plt.plot(history.history['acc'])\n",
        "plt.plot(history.history['val_acc'])\n",
        "plt.title('model accuracy')\n",
        "plt.ylabel('accuracy')\n",
        "plt.xlabel('epoch')\n",
        "plt.legend(['train', 'test'], loc='upper left')\n",
        "plt.show()"
      ],
      "execution_count": 23,
      "outputs": [
        {
          "output_type": "display_data",
          "data": {
            "image/png": "[encoded data removed]",
            "text/plain": [
              "<Figure size 432x288 with 1 Axes>"
            ]
          },
          "metadata": {
            "tags": [],
            "needs_background": "light"
          }
        }
      ]
    },
    {
      "cell_type": "code",
      "metadata": {
        "colab": {
          "base_uri": "https://localhost:8080/",
          "height": 295
        },
        "id": "cJDQqSKb4FvT",
        "outputId": "6493353f-4854-47fb-8b9d-6c07e4f77c7a"
      },
      "source": [
        "# summarize history for loss\n",
        "plt.plot(history.history['loss'])\n",
        "plt.plot(history.history['val_loss'])\n",
        "plt.title('model loss')\n",
        "plt.ylabel('loss')\n",
        "plt.xlabel('epoch')\n",
        "plt.legend(['train', 'test'], loc='upper left')\n",
        "plt.show()"
      ],
      "execution_count": 24,
      "outputs": [
        {
          "output_type": "display_data",
          "data": {
            "image/png": "[encoded data removed]",
            "text/plain": [
              "<Figure size 432x288 with 1 Axes>"
            ]
          },
          "metadata": {
            "tags": [],
            "needs_background": "light"
          }
        }
      ]
    },
    {
      "cell_type": "code",
      "metadata": {
        "colab": {
          "base_uri": "https://localhost:8080/"
        },
        "id": "vQnM7kvG74bK",
        "outputId": "df71cd7d-e6d3-4fb3-823f-f1cf89a94dc3"
      },
      "source": [
        "model_flower.evaluate(X_test1,y_test_one_hot)"
      ],
      "execution_count": 25,
      "outputs": [
        {
          "output_type": "stream",
          "text": [
            "54/54 [==============================] - 1s 20ms/step - loss: 0.8443 - acc: 0.7174\n"
          ],
          "name": "stdout"
        },
        {
          "output_type": "execute_result",
          "data": {
            "text/plain": [
              "[0.8443154096603394, 0.7174290418624878]"
            ]
          },
          "metadata": {
            "tags": []
          },
          "execution_count": 25
        }
      ]
    },
    {
      "cell_type": "markdown",
      "metadata": {
        "id": "BjyL3M3sD6pn"
      },
      "source": [
        ""
      ]
    },
    {
      "cell_type": "code",
      "metadata": {
        "colab": {
          "resources": {
            "http://localhost:8080/nbextensions/google.colab/files.js": {
              "data": "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",
              "ok": true,
              "headers": [
                [
                  "content-type",
                  "application/javascript"
                ]
              ],
              "status": 200,
              "status_text": ""
            }
          },
          "base_uri": "https://localhost:8080/",
          "height": 73
        },
        "id": "wWHet0_zaetz",
        "outputId": "ac023393-91f9-4a27-8b22-51c5a97a0d3a"
      },
      "source": [
        "#Let’s test the model by loading a new image.\n",
        "from google.colab import files\n",
        "uploaded=files.upload()"
      ],
      "execution_count": 26,
      "outputs": [
        {
          "output_type": "display_data",
          "data": {
            "text/html": [
              "\n",
              "     <input type=\"file\" id=\"files-001658ee-533e-4b86-ab3b-082f7827bf67\" name=\"files[]\" multiple disabled\n",
              "        style=\"border:none\" />\n",
              "     <output id=\"result-001658ee-533e-4b86-ab3b-082f7827bf67\">\n",
              "      Upload widget is only available when the cell has been executed in the\n",
              "      current browser session. Please rerun this cell to enable.\n",
              "      </output>\n",
              "      <script src=\"/nbextensions/google.colab/files.js\"></script> "
            ],
            "text/plain": [
              "<IPython.core.display.HTML object>"
            ]
          },
          "metadata": {
            "tags": []
          }
        },
        {
          "output_type": "stream",
          "text": [
            "Saving daisy.jpg to daisy.jpg\n"
          ],
          "name": "stdout"
        }
      ]
    },
    {
      "cell_type": "code",
      "metadata": {
        "colab": {
          "base_uri": "https://localhost:8080/",
          "height": 350
        },
        "id": "g2gi2noJbEi1",
        "outputId": "14eda6e6-61f8-4efd-9f2e-991384fd2153"
      },
      "source": [
        "new_image=plt.imread(\"/content/daisy.jpg\")\n",
        "plt.imshow(new_image)\n",
        "from skimage.transform import resize\n",
        "import numpy as np\n",
        "new_resize=resize(new_image,(32,32,3))\n",
        "plt.imshow(new_resize)\n",
        "probabilities=model_flower.predict(np.array([new_resize,]))\n",
        "i=0\n",
        "for i in range(5):\n",
        "  print(folders[i],':',round(probabilities[0][i]*100,2),\"%\")"
      ],
      "execution_count": 31,
      "outputs": [
        {
          "output_type": "stream",
          "text": [
            "daisy : 100.0 %\n",
            "dandelion : 0.0 %\n",
            "rose : 0.0 %\n",
            "sunflower : 0.0 %\n",
            "tulip : 0.0 %\n"
          ],
          "name": "stdout"
        },
        {
          "output_type": "display_data",
          "data": {
            "image/png": "[encoded data removed]",
            "text/plain": [
              "<Figure size 432x288 with 1 Axes>"
            ]
          },
          "metadata": {
            "tags": [],
            "needs_background": "light"
          }
        }
      ]
    }
  ]
}