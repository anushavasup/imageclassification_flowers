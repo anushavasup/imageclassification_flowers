{
  "nbformat": 4,
  "nbformat_minor": 0,
  "metadata": {
    "colab": {
      "name": "flowers_multiclass_augmentation_1.ipynb",
      "provenance": [],
      "collapsed_sections": [],
      "authorship_tag": "ABX9TyP5OZEnot+xAMTtzXdhYy2N",
      "include_colab_link": true
    },
    "kernelspec": {
      "name": "python3",
      "display_name": "Python 3"
    },
    "language_info": {
      "name": "python"
    }
  },
  "cells": [
    {
      "cell_type": "markdown",
      "metadata": {
        "id": "view-in-github",
        "colab_type": "text"
      },
      "source": [
        "<a href=\"https://colab.research.google.com/github/anushavasup/imageclassification_flowers/blob/main/flowers_multiclass_augmentation_1.ipynb\" target=\"_parent\"><img src=\"https://colab.research.google.com/assets/colab-badge.svg\" alt=\"Open In Colab\"/></a>"
      ]
    },
    {
      "cell_type": "code",
      "metadata": {
        "colab": {
          "base_uri": "https://localhost:8080/"
        },
        "id": "4ICbtL0fvy4g",
        "outputId": "7ae3302a-4c5a-4acd-d6b2-64b0cbcdc6b4"
      },
      "source": [
        "from google.colab import drive\n",
        "drive.mount('/content/drive/')"
      ],
      "execution_count": 2,
      "outputs": [
        {
          "output_type": "stream",
          "text": [
            "Mounted at /content/drive/\n"
          ],
          "name": "stdout"
        }
      ]
    },
    {
      "cell_type": "code",
      "metadata": {
        "colab": {
          "base_uri": "https://localhost:8080/"
        },
        "id": "guhIHyXsv_IH",
        "outputId": "8cb99e24-c735-4920-e611-fc60d3a743a3"
      },
      "source": [
        "from zipfile import ZipFile\n",
        "file_name = '/content/drive/MyDrive/flowers.zip'\n",
        "with ZipFile(file_name, 'r') as zip:\n",
        "  zip.extractall()\n",
        "  print('Done')"
      ],
      "execution_count": 3,
      "outputs": [
        {
          "output_type": "stream",
          "text": [
            "Done\n"
          ],
          "name": "stdout"
        }
      ]
    },
    {
      "cell_type": "code",
      "metadata": {
        "id": "qozqyE8kwc8i"
      },
      "source": [
        "import numpy as np \n",
        "import pandas as pd \n",
        "import os\n",
        "import matplotlib.pyplot as plt\n",
        "import cv2\n",
        "from tensorflow.keras.utils import to_categorical\n",
        "from keras.layers import Dense,Conv2D,Flatten,MaxPool2D,Dropout\n",
        "from keras.models import Sequential\n",
        "from sklearn.model_selection import train_test_split\n",
        "\n"
      ],
      "execution_count": 4,
      "outputs": []
    },
    {
      "cell_type": "code",
      "metadata": {
        "id": "enfobWwvSuMn"
      },
      "source": [
        "import tensorflow as tf\n",
        "from tensorflow.keras import layers\n",
        "data_augmentation = tf.keras.Sequential(\n",
        "  [\n",
        "    layers.experimental.preprocessing.RandomFlip(\"horizontal\", \n",
        "                                                 input_shape=(32, \n",
        "                                                              32,\n",
        "                                                              3)),\n",
        "    layers.experimental.preprocessing.RandomRotation(0.1),\n",
        "    layers.experimental.preprocessing.RandomZoom(0.1),\n",
        "  ]\n",
        ")"
      ],
      "execution_count": 5,
      "outputs": []
    },
    {
      "cell_type": "code",
      "metadata": {
        "id": "W7jMSFpQw7av"
      },
      "source": [
        "import glob \n",
        "import cv2\n",
        "from skimage.transform import resize\n",
        "folders=['daisy','dandelion','rose','sunflower','tulip']\n",
        "X=[]#feature dataset\n",
        "y=[]#target data set\n",
        "#loop through everyfolder\n",
        "for folder in folders:\n",
        "  path='/content/flowers/'+folder+'/*.jpg'\n",
        "  files=glob.glob(path)\n",
        "  for myfile in files:\n",
        "    image=cv2.imread(myfile)\n",
        "    image=cv2.cvtColor(image,cv2.COLOR_BGR2RGB)\n",
        "    image=resize(image,(32,32,3))\n",
        "    \n",
        "    X.append(image)\n",
        "    y.append(folder)\n",
        "    #print(image.shape)\n",
        "    image = tf.expand_dims(image, 0)\n",
        "    augmented_image=data_augmentation(image)\n",
        "    augmented_image=tf.reshape(augmented_image,(32,32,3))\n",
        "    #print(augmented_image)\n",
        "    X.append(augmented_image)\n",
        "    y.append(folder)"
      ],
      "execution_count": 6,
      "outputs": []
    },
    {
      "cell_type": "code",
      "metadata": {
        "id": "YKf2a5KxyP1g"
      },
      "source": [
        "from sklearn.model_selection import train_test_split\n",
        "X_train,X_test,y_train,y_test=train_test_split(X,y,test_size=0.2,random_state=42)"
      ],
      "execution_count": 7,
      "outputs": []
    },
    {
      "cell_type": "code",
      "metadata": {
        "colab": {
          "base_uri": "https://localhost:8080/"
        },
        "id": "l_bfrE4qz_fJ",
        "outputId": "169575f1-d895-440a-b4b5-baefce1df9d5"
      },
      "source": [
        "from sklearn.preprocessing import LabelEncoder\n",
        "y_train=LabelEncoder().fit_transform(y_train)\n",
        "y_test=LabelEncoder().fit_transform(y_test)\n",
        "print(y_train)\n"
      ],
      "execution_count": 8,
      "outputs": [
        {
          "output_type": "stream",
          "text": [
            "[4 3 3 ... 3 0 4]\n"
          ],
          "name": "stdout"
        }
      ]
    },
    {
      "cell_type": "code",
      "metadata": {
        "colab": {
          "base_uri": "https://localhost:8080/"
        },
        "id": "wMmuy7As0Dw3",
        "outputId": "a5e86a15-1456-4806-8b2e-360572a1d9a4"
      },
      "source": [
        "from tensorflow.keras.utils import to_categorical\n",
        "y_train_one_hot=to_categorical(y_train)\n",
        "y_test_one_hot=to_categorical(y_test)\n",
        "normalization_layer = layers.experimental.preprocessing.Rescaling(1./255)\n",
        "#X_train1=tf.convert_to_tensor(X_train)\n",
        "\n",
        "X_train1=np.array(X_train)\n",
        "X_test1=np.array(X_test)\n",
        "print(type(X_train1))\n",
        "print(np.max(X_train1[3]))\n",
        "X_train1.shape"
      ],
      "execution_count": 9,
      "outputs": [
        {
          "output_type": "stream",
          "text": [
            "<class 'numpy.ndarray'>\n",
            "0.9914843440055847\n"
          ],
          "name": "stdout"
        },
        {
          "output_type": "execute_result",
          "data": {
            "text/plain": [
              "(6907, 32, 32, 3)"
            ]
          },
          "metadata": {
            "tags": []
          },
          "execution_count": 9
        }
      ]
    },
    {
      "cell_type": "code",
      "metadata": {
        "id": "9LwPZajRyrpV"
      },
      "source": [
        "# Creating a Sequential model\n",
        "from keras.layers.normalization import BatchNormalization\n",
        "model_flower= Sequential()\n",
        "#model.add(data_augmentation)\n",
        "model_flower.add(Conv2D(kernel_size=(3,3), filters=32, activation='relu', input_shape=(32,32,3)))\n",
        "model_flower.add(Dropout(0.2))\n",
        "model_flower.add(BatchNormalization())\n",
        "\n",
        "model_flower.add(Conv2D(filters=30,kernel_size = (3,3),activation='relu'))\n",
        "model_flower.add(MaxPool2D(2,2))\n",
        "model_flower.add(BatchNormalization())\n",
        "model_flower.add(Dropout(0.2))\n",
        "\n",
        "model_flower.add(Conv2D(filters=30,kernel_size = (3,3),activation='relu'))\n",
        "model_flower.add(MaxPool2D(2,2))\n",
        "model_flower.add(BatchNormalization())\n",
        "model_flower.add(Dropout(0.2))\n",
        "\n",
        "model_flower.add(Conv2D(filters=30,kernel_size = (3,3),activation='relu'))\n",
        "model_flower.add(BatchNormalization())\n",
        "model_flower.add(Dropout(0.2))\n",
        "\n",
        "model_flower.add(Flatten())\n",
        "\n",
        "model_flower.add(Dense(32,activation='relu'))\n",
        "model_flower.add(Dropout(0.2))\n",
        "model_flower.add(Dense(16,activation='relu'))\n",
        "#model_flower.add(Dense(32,activation='relu'))\n",
        "\n",
        "model_flower.add(Dense(5,activation = 'softmax'))\n",
        "\n",
        "    \n",
        "model_flower.compile(\n",
        "              loss='categorical_crossentropy', \n",
        "              metrics=['acc'],\n",
        "              optimizer='adam'\n",
        "             )\n"
      ],
      "execution_count": 21,
      "outputs": []
    },
    {
      "cell_type": "code",
      "metadata": {
        "colab": {
          "base_uri": "https://localhost:8080/"
        },
        "id": "K7G2GKigzFC9",
        "outputId": "c5831488-536c-4207-826d-be43f620391c"
      },
      "source": [
        "# Model Summary\n",
        "model_flower.summary()"
      ],
      "execution_count": 30,
      "outputs": [
        {
          "output_type": "stream",
          "text": [
            "Model: \"sequential_3\"\n",
            "_________________________________________________________________\n",
            "Layer (type)                 Output Shape              Param #   \n",
            "=================================================================\n",
            "conv2d_12 (Conv2D)           (None, 30, 30, 32)        896       \n",
            "_________________________________________________________________\n",
            "dropout_13 (Dropout)         (None, 30, 30, 32)        0         \n",
            "_________________________________________________________________\n",
            "conv2d_13 (Conv2D)           (None, 28, 28, 30)        8670      \n",
            "_________________________________________________________________\n",
            "max_pooling2d_6 (MaxPooling2 (None, 14, 14, 30)        0         \n",
            "_________________________________________________________________\n",
            "dropout_14 (Dropout)         (None, 14, 14, 30)        0         \n",
            "_________________________________________________________________\n",
            "conv2d_14 (Conv2D)           (None, 12, 12, 30)        8130      \n",
            "_________________________________________________________________\n",
            "max_pooling2d_7 (MaxPooling2 (None, 6, 6, 30)          0         \n",
            "_________________________________________________________________\n",
            "dropout_15 (Dropout)         (None, 6, 6, 30)          0         \n",
            "_________________________________________________________________\n",
            "conv2d_15 (Conv2D)           (None, 4, 4, 30)          8130      \n",
            "_________________________________________________________________\n",
            "dropout_16 (Dropout)         (None, 4, 4, 30)          0         \n",
            "_________________________________________________________________\n",
            "flatten_3 (Flatten)          (None, 480)               0         \n",
            "_________________________________________________________________\n",
            "dense_10 (Dense)             (None, 25)                12025     \n",
            "_________________________________________________________________\n",
            "dropout_17 (Dropout)         (None, 25)                0         \n",
            "_________________________________________________________________\n",
            "dense_11 (Dense)             (None, 15)                390       \n",
            "_________________________________________________________________\n",
            "dense_12 (Dense)             (None, 5)                 80        \n",
            "=================================================================\n",
            "Total params: 38,321\n",
            "Trainable params: 38,321\n",
            "Non-trainable params: 0\n",
            "_________________________________________________________________\n"
          ],
          "name": "stdout"
        }
      ]
    },
    {
      "cell_type": "code",
      "metadata": {
        "colab": {
          "base_uri": "https://localhost:8080/"
        },
        "id": "lBCWvZPXzd9e",
        "outputId": "fb1ab14f-798a-4464-ad96-b8f294725cc6"
      },
      "source": [
        "# Training the model\n",
        "history = model_flower.fit(X_train1,y_train_one_hot,epochs=100,batch_size=32,validation_split=0.5)"
      ],
      "execution_count": 22,
      "outputs": [
        {
          "output_type": "stream",
          "text": [
            "Epoch 1/100\n",
            "108/108 [==============================] - 29s 140ms/step - loss: 1.7456 - acc: 0.2746 - val_loss: 1.7947 - val_acc: 0.2487\n",
            "Epoch 2/100\n",
            "108/108 [==============================] - 15s 135ms/step - loss: 1.3514 - acc: 0.4293 - val_loss: 2.1899 - val_acc: 0.2487\n",
            "Epoch 3/100\n",
            "108/108 [==============================] - 14s 134ms/step - loss: 1.2173 - acc: 0.5001 - val_loss: 1.7636 - val_acc: 0.2768\n",
            "Epoch 4/100\n",
            "108/108 [==============================] - 15s 136ms/step - loss: 1.1592 - acc: 0.5335 - val_loss: 1.6428 - val_acc: 0.3159\n",
            "Epoch 5/100\n",
            "108/108 [==============================] - 14s 132ms/step - loss: 1.0735 - acc: 0.5577 - val_loss: 1.7110 - val_acc: 0.3347\n",
            "Epoch 6/100\n",
            "108/108 [==============================] - 14s 131ms/step - loss: 1.0408 - acc: 0.5830 - val_loss: 1.1815 - val_acc: 0.5067\n",
            "Epoch 7/100\n",
            "108/108 [==============================] - 14s 132ms/step - loss: 1.0055 - acc: 0.6106 - val_loss: 1.2458 - val_acc: 0.4710\n",
            "Epoch 8/100\n",
            "108/108 [==============================] - 14s 131ms/step - loss: 0.9902 - acc: 0.5857 - val_loss: 1.2321 - val_acc: 0.5185\n",
            "Epoch 9/100\n",
            "108/108 [==============================] - 14s 132ms/step - loss: 0.9652 - acc: 0.6029 - val_loss: 1.1467 - val_acc: 0.5345\n",
            "Epoch 10/100\n",
            "108/108 [==============================] - 14s 132ms/step - loss: 0.9278 - acc: 0.6299 - val_loss: 1.0397 - val_acc: 0.5981\n",
            "Epoch 11/100\n",
            "108/108 [==============================] - 14s 132ms/step - loss: 0.8985 - acc: 0.6380 - val_loss: 1.0415 - val_acc: 0.6120\n",
            "Epoch 12/100\n",
            "108/108 [==============================] - 14s 132ms/step - loss: 0.8988 - acc: 0.6352 - val_loss: 1.1310 - val_acc: 0.5845\n",
            "Epoch 13/100\n",
            "108/108 [==============================] - 14s 134ms/step - loss: 0.8489 - acc: 0.6612 - val_loss: 1.1092 - val_acc: 0.5883\n",
            "Epoch 14/100\n",
            "108/108 [==============================] - 14s 132ms/step - loss: 0.8243 - acc: 0.6879 - val_loss: 1.0416 - val_acc: 0.6120\n",
            "Epoch 15/100\n",
            "108/108 [==============================] - 14s 133ms/step - loss: 0.8020 - acc: 0.6984 - val_loss: 1.0585 - val_acc: 0.5895\n",
            "Epoch 16/100\n",
            "108/108 [==============================] - 14s 134ms/step - loss: 0.7812 - acc: 0.6943 - val_loss: 0.9788 - val_acc: 0.6355\n",
            "Epoch 17/100\n",
            "108/108 [==============================] - 14s 134ms/step - loss: 0.7976 - acc: 0.6820 - val_loss: 1.0382 - val_acc: 0.6057\n",
            "Epoch 18/100\n",
            "108/108 [==============================] - 14s 133ms/step - loss: 0.7496 - acc: 0.7011 - val_loss: 1.1643 - val_acc: 0.5787\n",
            "Epoch 19/100\n",
            "108/108 [==============================] - 14s 133ms/step - loss: 0.7695 - acc: 0.7005 - val_loss: 0.9950 - val_acc: 0.6170\n",
            "Epoch 20/100\n",
            "108/108 [==============================] - 14s 134ms/step - loss: 0.7609 - acc: 0.7000 - val_loss: 0.9840 - val_acc: 0.6477\n",
            "Epoch 21/100\n",
            "108/108 [==============================] - 14s 133ms/step - loss: 0.7140 - acc: 0.7224 - val_loss: 0.9961 - val_acc: 0.6387\n",
            "Epoch 22/100\n",
            "108/108 [==============================] - 14s 134ms/step - loss: 0.7390 - acc: 0.7136 - val_loss: 1.0895 - val_acc: 0.6106\n",
            "Epoch 23/100\n",
            "108/108 [==============================] - 14s 132ms/step - loss: 0.6959 - acc: 0.7191 - val_loss: 1.0017 - val_acc: 0.6390\n",
            "Epoch 24/100\n",
            "108/108 [==============================] - 14s 133ms/step - loss: 0.6704 - acc: 0.7441 - val_loss: 1.0320 - val_acc: 0.6288\n",
            "Epoch 25/100\n",
            "108/108 [==============================] - 14s 132ms/step - loss: 0.6893 - acc: 0.7246 - val_loss: 0.8858 - val_acc: 0.6749\n",
            "Epoch 26/100\n",
            "108/108 [==============================] - 14s 132ms/step - loss: 0.6373 - acc: 0.7585 - val_loss: 0.9773 - val_acc: 0.6508\n",
            "Epoch 27/100\n",
            "108/108 [==============================] - 14s 132ms/step - loss: 0.6298 - acc: 0.7518 - val_loss: 0.9676 - val_acc: 0.6500\n",
            "Epoch 28/100\n",
            "108/108 [==============================] - 14s 132ms/step - loss: 0.6488 - acc: 0.7398 - val_loss: 0.9704 - val_acc: 0.6410\n",
            "Epoch 29/100\n",
            "108/108 [==============================] - 14s 132ms/step - loss: 0.6134 - acc: 0.7665 - val_loss: 1.0040 - val_acc: 0.6494\n",
            "Epoch 30/100\n",
            "108/108 [==============================] - 14s 132ms/step - loss: 0.5863 - acc: 0.7756 - val_loss: 0.9744 - val_acc: 0.6497\n",
            "Epoch 31/100\n",
            "108/108 [==============================] - 14s 132ms/step - loss: 0.6300 - acc: 0.7608 - val_loss: 1.0181 - val_acc: 0.6314\n",
            "Epoch 32/100\n",
            "108/108 [==============================] - 14s 132ms/step - loss: 0.6011 - acc: 0.7672 - val_loss: 0.9264 - val_acc: 0.6781\n",
            "Epoch 33/100\n",
            "108/108 [==============================] - 14s 132ms/step - loss: 0.5692 - acc: 0.7735 - val_loss: 0.9240 - val_acc: 0.6653\n",
            "Epoch 34/100\n",
            "108/108 [==============================] - 14s 131ms/step - loss: 0.5978 - acc: 0.7703 - val_loss: 0.9289 - val_acc: 0.6789\n",
            "Epoch 35/100\n",
            "108/108 [==============================] - 14s 131ms/step - loss: 0.5519 - acc: 0.7896 - val_loss: 1.0706 - val_acc: 0.6259\n",
            "Epoch 36/100\n",
            "108/108 [==============================] - 14s 131ms/step - loss: 0.5690 - acc: 0.7884 - val_loss: 0.9136 - val_acc: 0.6769\n",
            "Epoch 37/100\n",
            "108/108 [==============================] - 14s 132ms/step - loss: 0.5391 - acc: 0.7936 - val_loss: 1.0037 - val_acc: 0.6456\n",
            "Epoch 38/100\n",
            "108/108 [==============================] - 14s 131ms/step - loss: 0.5677 - acc: 0.7731 - val_loss: 0.9305 - val_acc: 0.6778\n",
            "Epoch 39/100\n",
            "108/108 [==============================] - 14s 132ms/step - loss: 0.5086 - acc: 0.8037 - val_loss: 0.9438 - val_acc: 0.6702\n",
            "Epoch 40/100\n",
            "108/108 [==============================] - 14s 132ms/step - loss: 0.5286 - acc: 0.7939 - val_loss: 0.8969 - val_acc: 0.6977\n",
            "Epoch 41/100\n",
            "108/108 [==============================] - 14s 132ms/step - loss: 0.5287 - acc: 0.8002 - val_loss: 0.9145 - val_acc: 0.6746\n",
            "Epoch 42/100\n",
            "108/108 [==============================] - 14s 132ms/step - loss: 0.5241 - acc: 0.7987 - val_loss: 0.9782 - val_acc: 0.6714\n",
            "Epoch 43/100\n",
            "108/108 [==============================] - 14s 131ms/step - loss: 0.5102 - acc: 0.8116 - val_loss: 0.8928 - val_acc: 0.6957\n",
            "Epoch 44/100\n",
            "108/108 [==============================] - 14s 130ms/step - loss: 0.4790 - acc: 0.8181 - val_loss: 0.9404 - val_acc: 0.6766\n",
            "Epoch 45/100\n",
            "108/108 [==============================] - 14s 131ms/step - loss: 0.4687 - acc: 0.8208 - val_loss: 0.9173 - val_acc: 0.6757\n",
            "Epoch 46/100\n",
            "108/108 [==============================] - 14s 131ms/step - loss: 0.4868 - acc: 0.8206 - val_loss: 0.9397 - val_acc: 0.6830\n",
            "Epoch 47/100\n",
            "108/108 [==============================] - 14s 132ms/step - loss: 0.4695 - acc: 0.8237 - val_loss: 0.9465 - val_acc: 0.6754\n",
            "Epoch 48/100\n",
            "108/108 [==============================] - 14s 132ms/step - loss: 0.4875 - acc: 0.8181 - val_loss: 0.9388 - val_acc: 0.6946\n",
            "Epoch 49/100\n",
            "108/108 [==============================] - 14s 132ms/step - loss: 0.4712 - acc: 0.8277 - val_loss: 0.9754 - val_acc: 0.6859\n",
            "Epoch 50/100\n",
            "108/108 [==============================] - 14s 132ms/step - loss: 0.4116 - acc: 0.8452 - val_loss: 1.2435 - val_acc: 0.6199\n",
            "Epoch 51/100\n",
            "108/108 [==============================] - 14s 133ms/step - loss: 0.4400 - acc: 0.8301 - val_loss: 0.9934 - val_acc: 0.6833\n",
            "Epoch 52/100\n",
            "108/108 [==============================] - 14s 132ms/step - loss: 0.4210 - acc: 0.8436 - val_loss: 0.9464 - val_acc: 0.7061\n",
            "Epoch 53/100\n",
            "108/108 [==============================] - 14s 132ms/step - loss: 0.4277 - acc: 0.8302 - val_loss: 0.9318 - val_acc: 0.6975\n",
            "Epoch 54/100\n",
            "108/108 [==============================] - 14s 132ms/step - loss: 0.4473 - acc: 0.8256 - val_loss: 0.9915 - val_acc: 0.6859\n",
            "Epoch 55/100\n",
            "108/108 [==============================] - 14s 132ms/step - loss: 0.4594 - acc: 0.8190 - val_loss: 1.0327 - val_acc: 0.6798\n",
            "Epoch 56/100\n",
            "108/108 [==============================] - 14s 133ms/step - loss: 0.4093 - acc: 0.8456 - val_loss: 1.0377 - val_acc: 0.6844\n",
            "Epoch 57/100\n",
            "108/108 [==============================] - 14s 134ms/step - loss: 0.4291 - acc: 0.8348 - val_loss: 0.9719 - val_acc: 0.6934\n",
            "Epoch 58/100\n",
            "108/108 [==============================] - 14s 133ms/step - loss: 0.4188 - acc: 0.8411 - val_loss: 0.9706 - val_acc: 0.6862\n",
            "Epoch 59/100\n",
            "108/108 [==============================] - 14s 133ms/step - loss: 0.4402 - acc: 0.8332 - val_loss: 1.0463 - val_acc: 0.6821\n",
            "Epoch 60/100\n",
            "108/108 [==============================] - 14s 134ms/step - loss: 0.3981 - acc: 0.8527 - val_loss: 1.0457 - val_acc: 0.6809\n",
            "Epoch 61/100\n",
            "108/108 [==============================] - 14s 132ms/step - loss: 0.4438 - acc: 0.8364 - val_loss: 0.9292 - val_acc: 0.7032\n",
            "Epoch 62/100\n",
            "108/108 [==============================] - 14s 132ms/step - loss: 0.3852 - acc: 0.8564 - val_loss: 0.9966 - val_acc: 0.6934\n",
            "Epoch 63/100\n",
            "108/108 [==============================] - 14s 132ms/step - loss: 0.4041 - acc: 0.8427 - val_loss: 0.9582 - val_acc: 0.6888\n",
            "Epoch 64/100\n",
            "108/108 [==============================] - 14s 132ms/step - loss: 0.4013 - acc: 0.8412 - val_loss: 0.9679 - val_acc: 0.7024\n",
            "Epoch 65/100\n",
            "108/108 [==============================] - 14s 132ms/step - loss: 0.3687 - acc: 0.8636 - val_loss: 1.0581 - val_acc: 0.6957\n",
            "Epoch 66/100\n",
            "108/108 [==============================] - 14s 132ms/step - loss: 0.3628 - acc: 0.8617 - val_loss: 1.0209 - val_acc: 0.6937\n",
            "Epoch 67/100\n",
            "108/108 [==============================] - 14s 132ms/step - loss: 0.3989 - acc: 0.8455 - val_loss: 0.9940 - val_acc: 0.6995\n",
            "Epoch 68/100\n",
            "108/108 [==============================] - 14s 132ms/step - loss: 0.3889 - acc: 0.8580 - val_loss: 0.9458 - val_acc: 0.6992\n",
            "Epoch 69/100\n",
            "108/108 [==============================] - 14s 132ms/step - loss: 0.3678 - acc: 0.8597 - val_loss: 0.9600 - val_acc: 0.6902\n",
            "Epoch 70/100\n",
            "108/108 [==============================] - 14s 131ms/step - loss: 0.3983 - acc: 0.8482 - val_loss: 1.0302 - val_acc: 0.6943\n",
            "Epoch 71/100\n",
            "108/108 [==============================] - 14s 131ms/step - loss: 0.3756 - acc: 0.8558 - val_loss: 1.0328 - val_acc: 0.6873\n",
            "Epoch 72/100\n",
            "108/108 [==============================] - 14s 132ms/step - loss: 0.3513 - acc: 0.8739 - val_loss: 1.0517 - val_acc: 0.6905\n",
            "Epoch 73/100\n",
            "108/108 [==============================] - 14s 132ms/step - loss: 0.3730 - acc: 0.8523 - val_loss: 1.0833 - val_acc: 0.6980\n",
            "Epoch 74/100\n",
            "108/108 [==============================] - 14s 131ms/step - loss: 0.3673 - acc: 0.8642 - val_loss: 1.0067 - val_acc: 0.6905\n",
            "Epoch 75/100\n",
            "108/108 [==============================] - 14s 132ms/step - loss: 0.3556 - acc: 0.8648 - val_loss: 0.9847 - val_acc: 0.6957\n",
            "Epoch 76/100\n",
            "108/108 [==============================] - 14s 131ms/step - loss: 0.3492 - acc: 0.8716 - val_loss: 0.9752 - val_acc: 0.6954\n",
            "Epoch 77/100\n",
            "108/108 [==============================] - 14s 132ms/step - loss: 0.3579 - acc: 0.8742 - val_loss: 0.9926 - val_acc: 0.6989\n",
            "Epoch 78/100\n",
            "108/108 [==============================] - 14s 132ms/step - loss: 0.3612 - acc: 0.8602 - val_loss: 0.9238 - val_acc: 0.7090\n",
            "Epoch 79/100\n",
            "108/108 [==============================] - 14s 132ms/step - loss: 0.3203 - acc: 0.8855 - val_loss: 0.9370 - val_acc: 0.7087\n",
            "Epoch 80/100\n",
            "108/108 [==============================] - 14s 132ms/step - loss: 0.3272 - acc: 0.8761 - val_loss: 0.9744 - val_acc: 0.7070\n",
            "Epoch 81/100\n",
            "108/108 [==============================] - 14s 132ms/step - loss: 0.3477 - acc: 0.8675 - val_loss: 0.9631 - val_acc: 0.6995\n",
            "Epoch 82/100\n",
            "108/108 [==============================] - 14s 132ms/step - loss: 0.3504 - acc: 0.8687 - val_loss: 0.9757 - val_acc: 0.7079\n",
            "Epoch 83/100\n",
            "108/108 [==============================] - 14s 132ms/step - loss: 0.3398 - acc: 0.8649 - val_loss: 1.0031 - val_acc: 0.7090\n",
            "Epoch 84/100\n",
            "108/108 [==============================] - 14s 132ms/step - loss: 0.3193 - acc: 0.8811 - val_loss: 1.0084 - val_acc: 0.7032\n",
            "Epoch 85/100\n",
            "108/108 [==============================] - 14s 132ms/step - loss: 0.3429 - acc: 0.8711 - val_loss: 1.0208 - val_acc: 0.7070\n",
            "Epoch 86/100\n",
            "108/108 [==============================] - 14s 132ms/step - loss: 0.3026 - acc: 0.8753 - val_loss: 1.0078 - val_acc: 0.7012\n",
            "Epoch 87/100\n",
            "108/108 [==============================] - 14s 132ms/step - loss: 0.3080 - acc: 0.8891 - val_loss: 0.9953 - val_acc: 0.7157\n",
            "Epoch 88/100\n",
            "108/108 [==============================] - 14s 132ms/step - loss: 0.3392 - acc: 0.8689 - val_loss: 0.9730 - val_acc: 0.7154\n",
            "Epoch 89/100\n",
            "108/108 [==============================] - 14s 132ms/step - loss: 0.2962 - acc: 0.8964 - val_loss: 1.1121 - val_acc: 0.6972\n",
            "Epoch 90/100\n",
            "108/108 [==============================] - 14s 132ms/step - loss: 0.3107 - acc: 0.8874 - val_loss: 1.0652 - val_acc: 0.7079\n",
            "Epoch 91/100\n",
            "108/108 [==============================] - 14s 131ms/step - loss: 0.3447 - acc: 0.8783 - val_loss: 1.0227 - val_acc: 0.7113\n",
            "Epoch 92/100\n",
            "108/108 [==============================] - 14s 131ms/step - loss: 0.3162 - acc: 0.8754 - val_loss: 1.0129 - val_acc: 0.7030\n",
            "Epoch 93/100\n",
            "108/108 [==============================] - 14s 132ms/step - loss: 0.2871 - acc: 0.8916 - val_loss: 0.9849 - val_acc: 0.6989\n",
            "Epoch 94/100\n",
            "108/108 [==============================] - 14s 132ms/step - loss: 0.3325 - acc: 0.8737 - val_loss: 1.0020 - val_acc: 0.7082\n",
            "Epoch 95/100\n",
            "108/108 [==============================] - 14s 133ms/step - loss: 0.3207 - acc: 0.8789 - val_loss: 1.0321 - val_acc: 0.7108\n",
            "Epoch 96/100\n",
            "108/108 [==============================] - 14s 133ms/step - loss: 0.2896 - acc: 0.8884 - val_loss: 1.0925 - val_acc: 0.6879\n",
            "Epoch 97/100\n",
            "108/108 [==============================] - 14s 132ms/step - loss: 0.2919 - acc: 0.8889 - val_loss: 1.0506 - val_acc: 0.7108\n",
            "Epoch 98/100\n",
            "108/108 [==============================] - 14s 133ms/step - loss: 0.3275 - acc: 0.8808 - val_loss: 1.0506 - val_acc: 0.7076\n",
            "Epoch 99/100\n",
            "108/108 [==============================] - 14s 133ms/step - loss: 0.2805 - acc: 0.9008 - val_loss: 1.0242 - val_acc: 0.7148\n",
            "Epoch 100/100\n",
            "108/108 [==============================] - 14s 132ms/step - loss: 0.3056 - acc: 0.8826 - val_loss: 0.9772 - val_acc: 0.7160\n"
          ],
          "name": "stdout"
        }
      ]
    },
    {
      "cell_type": "code",
      "metadata": {
        "id": "WvflUl6A8y0N"
      },
      "source": [
        ""
      ],
      "execution_count": null,
      "outputs": []
    },
    {
      "cell_type": "code",
      "metadata": {
        "colab": {
          "base_uri": "https://localhost:8080/",
          "height": 295
        },
        "id": "hwDUvgEu3-yv",
        "outputId": "00652de5-d6d1-405a-ac82-2a65635297a5"
      },
      "source": [
        "# summarize history for accuracy\n",
        "plt.plot(history.history['acc'])\n",
        "plt.plot(history.history['val_acc'])\n",
        "plt.title('model accuracy')\n",
        "plt.ylabel('accuracy')\n",
        "plt.xlabel('epoch')\n",
        "plt.legend(['train', 'test'], loc='upper left')\n",
        "plt.show()"
      ],
      "execution_count": 23,
      "outputs": [
        {
          "output_type": "display_data",
          "data": {
            "image/png": "[encoded data removed]",
            "text/plain": [
              "<Figure size 432x288 with 1 Axes>"
            ]
          },
          "metadata": {
            "tags": [],
            "needs_background": "light"
          }
        }
      ]
    },
    {
      "cell_type": "code",
      "metadata": {
        "colab": {
          "base_uri": "https://localhost:8080/",
          "height": 295
        },
        "id": "cJDQqSKb4FvT",
        "outputId": "83a09633-4fbd-48e1-d9a2-4bd2e6223457"
      },
      "source": [
        "# summarize history for loss\n",
        "plt.plot(history.history['loss'])\n",
        "plt.plot(history.history['val_loss'])\n",
        "plt.title('model loss')\n",
        "plt.ylabel('loss')\n",
        "plt.xlabel('epoch')\n",
        "plt.legend(['train', 'test'], loc='upper left')\n",
        "plt.show()"
      ],
      "execution_count": 33,
      "outputs": [
        {
          "output_type": "display_data",
          "data": {
            "image/png": "[encoded data removed]",
            "text/plain": [
              "<Figure size 432x288 with 1 Axes>"
            ]
          },
          "metadata": {
            "tags": [],
            "needs_background": "light"
          }
        }
      ]
    },
    {
      "cell_type": "code",
      "metadata": {
        "colab": {
          "base_uri": "https://localhost:8080/"
        },
        "id": "vQnM7kvG74bK",
        "outputId": "d8c7ada9-484e-4645-bcef-8f035ab90286"
      },
      "source": [
        "model_flower.evaluate(X_test1,y_test_one_hot)"
      ],
      "execution_count": 34,
      "outputs": [
        {
          "output_type": "stream",
          "text": [
            "54/54 [==============================] - 1s 20ms/step - loss: 1.0738 - acc: 0.7197\n"
          ],
          "name": "stdout"
        },
        {
          "output_type": "execute_result",
          "data": {
            "text/plain": [
              "[1.0738041400909424, 0.7197452187538147]"
            ]
          },
          "metadata": {
            "tags": []
          },
          "execution_count": 34
        }
      ]
    },
    {
      "cell_type": "markdown",
      "metadata": {
        "id": "BjyL3M3sD6pn"
      },
      "source": [
        ""
      ]
    },
    {
      "cell_type": "code",
      "metadata": {
        "colab": {
          "resources": {
            "http://localhost:8080/nbextensions/google.colab/files.js": {
              "data": "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",
              "ok": true,
              "headers": [
                [
                  "content-type",
                  "application/javascript"
                ]
              ],
              "status": 200,
              "status_text": ""
            }
          },
          "base_uri": "https://localhost:8080/",
          "height": 73
        },
        "id": "wWHet0_zaetz",
        "outputId": "53491529-09b0-4573-bbc6-e1fcb3e4eead"
      },
      "source": [
        "#Let’s test the model by loading a new image.\n",
        "from google.colab import files\n",
        "uploaded=files.upload()"
      ],
      "execution_count": 35,
      "outputs": [
        {
          "output_type": "display_data",
          "data": {
            "text/html": [
              "\n",
              "     <input type=\"file\" id=\"files-26c0efa0-df9d-49e5-a98f-bae09811730e\" name=\"files[]\" multiple disabled\n",
              "        style=\"border:none\" />\n",
              "     <output id=\"result-26c0efa0-df9d-49e5-a98f-bae09811730e\">\n",
              "      Upload widget is only available when the cell has been executed in the\n",
              "      current browser session. Please rerun this cell to enable.\n",
              "      </output>\n",
              "      <script src=\"/nbextensions/google.colab/files.js\"></script> "
            ],
            "text/plain": [
              "<IPython.core.display.HTML object>"
            ]
          },
          "metadata": {
            "tags": []
          }
        },
        {
          "output_type": "stream",
          "text": [
            "Saving redrose.jpg to redrose.jpg\n"
          ],
          "name": "stdout"
        }
      ]
    },
    {
      "cell_type": "code",
      "metadata": {
        "colab": {
          "base_uri": "https://localhost:8080/",
          "height": 350
        },
        "id": "g2gi2noJbEi1",
        "outputId": "66681a0c-1e78-417c-d465-d090c260e55d"
      },
      "source": [
        "new_image=plt.imread(\"/content/redrose.jpg\")\n",
        "plt.imshow(new_image)\n",
        "from skimage.transform import resize\n",
        "import numpy as np\n",
        "new_resize=resize(new_image,(32,32,3))\n",
        "plt.imshow(new_resize)\n",
        "probabilities=model_flower.predict(np.array([new_resize,]))\n",
        "i=0\n",
        "for i in range(5):\n",
        "  print(folders[i],':',round(probabilities[0][i]*100,2),\"%\")"
      ],
      "execution_count": 37,
      "outputs": [
        {
          "output_type": "stream",
          "text": [
            "daisy : 0.45 %\n",
            "dandelion : 0.01 %\n",
            "rose : 92.8 %\n",
            "sunflower : 0.01 %\n",
            "tulip : 6.72 %\n"
          ],
          "name": "stdout"
        },
        {
          "output_type": "display_data",
          "data": {
            "image/png": "[encoded data removed]",
            "text/plain": [
              "<Figure size 432x288 with 1 Axes>"
            ]
          },
          "metadata": {
            "tags": [],
            "needs_background": "light"
          }
        }
      ]
    },
    {
      "cell_type": "code",
      "metadata": {
        "colab": {
          "base_uri": "https://localhost:8080/",
          "height": 513
        },
        "id": "_AwhqkRA86_B",
        "outputId": "74d7a3f3-7813-4c80-8afd-8891853abc9c"
      },
      "source": [
        "from sklearn.metrics import confusion_matrix\n",
        "import seaborn as sns\n",
        "y_pred=model_flower.predict(X_test1)\n",
        "y_pred_classes=np.argmax(y_pred,axis=1)\n",
        "y_true=np.argmax(y_test_one_hot,axis=1)\n",
        "confusion_mtx=confusion_matrix(y_true,y_pred_classes)\n",
        "f,ax=plt.subplots(figsize=(8,8))\n",
        "sns.heatmap(confusion_mtx,annot=True,linewidths = 0.01,cmap=\"Reds\",\n",
        "            linecolor = \"gray\",fmt = \".2f\",ax=ax\n",
        "            )\n",
        "plt.xlabel(\"predicted label\")\n",
        "plt.ylabel(\"True Label\")\n",
        "plt.title(\"confusion matrix\")\n",
        "plt.show()\n"
      ],
      "execution_count": 26,
      "outputs": [
        {
          "output_type": "display_data",
          "data": {
            "image/png": "[encoded data removed]",
            "text/plain": [
              "<Figure size 576x576 with 2 Axes>"
            ]
          },
          "metadata": {
            "tags": [],
            "needs_background": "light"
          }
        }
      ]
    }
  ]
}